{
 "cells": [
  {
   "cell_type": "markdown",
   "metadata": {},
   "source": [
    "![title](source/title.png)\n",
    "<a id=\"toc\"></a>"
   ]
  },
  {
   "cell_type": "markdown",
   "metadata": {},
   "source": [
    "<div  style=\"margin-top: 9px; background-color: #efefef; padding-top:10px; padding-bottom:10px;margin-bottom: 9px;box-shadow: 5px 5px 5px 0px rgba(87, 87, 87, 0.2);\">\n",
    "        <center>\n",
    "            <h2>Table of Contents</h2>\n",
    "        </center>\n",
    "\n",
    "   \n",
    "<ol>\n",
    "    <a href=\"#init\" style=\"color: #7a0723;\">Initializing</a> \n",
    "    <li><a href=\"#first\" style=\"color: #7a0723;\">Introduction</a></li>\n",
    "    <li><a href=\"#second\" style=\"color: #7a0723;\">Methodology</a></li>\n",
    "    <li><a href=\"#third\" style=\"color: #7a0723;\">Exploratory Analysis</a></li>\n",
    "    <li><a href=\"#fourth\" style=\"color: #7a0723;\">Teste Z para comparação de duas proporções</a></li>\n",
    "\n",
    "<!--     <li><a href=\"#seventh\"></a></li> -->\n",
    "<!--     <li><a href=\"#eighth\">Teste t pareado para duas médias</a></li> -->\n",
    "<!--     <li><a href=\"#ninth\">Teste F para duas variâncias</a></li> -->\n",
    "<!--     <li><a href=\"#tenth\">Teste t para duas médias</a></li> -->\n",
    "</ol>\n",
    "\n",
    "\n",
    "</div>"
   ]
  },
  {
   "cell_type": "markdown",
   "metadata": {},
   "source": [
    "<a id=\"init\"></a>\n",
    "\n",
    "# Initializing"
   ]
  },
  {
   "cell_type": "code",
   "execution_count": null,
   "metadata": {},
   "outputs": [],
   "source": [
    "# This Python 3 environment comes with many helpful analytics libraries installed\n",
    "# It is defined by the kaggle/python Docker image: https://github.com/kaggle/docker-python\n",
    "# For example, here's several helpful packages to load\n",
    "\n",
    "import numpy as np # linear algebra\n",
    "import pandas as pd # data processing, CSV file I/O (e.g. pd.read_csv)\n",
    "\n",
    "# Input data files are available in the read-only \"../input/\" directory\n",
    "# For example, running this (by clicking run or pressing Shift+Enter) will list all files under the input directory\n",
    "\n",
    "# import os\n",
    "# for dirname, _, filenames in os.walk('/kaggle/input'):\n",
    "#     for filename in filenames:\n",
    "#         print(os.path.join(dirname, filename))\n",
    "\n",
    "# You can write up to 5GB to the current directory (/kaggle/working/) that gets preserved as output when you create a version using \"Save & Run All\" \n",
    "# You can also write temporary files to /kaggle/temp/, but they won't be saved outside of the current session"
   ]
  },
  {
   "cell_type": "code",
   "execution_count": 47,
   "metadata": {},
   "outputs": [],
   "source": []
  },
  {
   "cell_type": "markdown",
   "metadata": {},
   "source": [
    "<!-- <a id=\"first\"></a> -->\n",
    "\n",
    "<a id=\"first\" style=\"\n",
    "  background-color: #7a0723;\n",
    "  border: none;\n",
    "  color: white;\n",
    "  padding: 2px 10px;\n",
    "  text-align: center;\n",
    "  text-decoration: none;\n",
    "  display: inline-block;\n",
    "  font-size: 10px;\" href=\"#toc\">TOC ↻</a>\n",
    "  \n",
    "  \n",
    "<div  style=\"margin-top: 9px; background-color: #efefef; padding-top:10px; padding-bottom:10px;margin-bottom: 9px;box-shadow: 5px 5px 5px 0px rgba(87, 87, 87, 0.2);\">\n",
    "        <center>\n",
    "            <h1>1. Introduction</h1>\n",
    "        </center>\n",
    "\n",
    "   \n",
    "<ol>\n",
    "<!--     <li><a href=\"#ea-init\">Initializing</a></li> -->\n",
    "\n",
    "</ol>\n",
    "\n",
    "\n",
    "</div>"
   ]
  },
  {
   "cell_type": "markdown",
   "metadata": {},
   "source": [
    "<a id=\"second\" style=\"\n",
    "  background-color: #7a0723;\n",
    "  border: none;\n",
    "  color: white;\n",
    "  padding: 2px 10px;\n",
    "  text-align: center;\n",
    "  text-decoration: none;\n",
    "  display: inline-block;\n",
    "  font-size: 10px;\" href=\"#toc\">TOC ↻</a>\n",
    "\n",
    "  \n",
    "<div  style=\"margin-top: 9px; background-color: #efefef; padding-top:10px; padding-bottom:10px;margin-bottom: 9px;box-shadow: 5px 5px 5px 0px rgba(87, 87, 87, 0.2);\">\n",
    "        <center>\n",
    "            <h1>2. Methodology</h1>\n",
    "        </center>\n",
    "\n",
    "   \n",
    "<ol>\n",
    "<!--     <li><a href=\"#ea-init\">Initializing</a></li> -->\n",
    "\n",
    "</ol>\n",
    "\n",
    "\n",
    "</div>"
   ]
  },
  {
   "cell_type": "markdown",
   "metadata": {},
   "source": [
    "<a id=\"third\" style=\"\n",
    "  background-color: #7a0723;\n",
    "  border: none;\n",
    "  color: white;\n",
    "  padding: 2px 10px;\n",
    "  text-align: center;\n",
    "  text-decoration: none;\n",
    "  display: inline-block;\n",
    "  font-size: 10px;\" href=\"#toc\">TOC ↻</a>\n",
    "  \n",
    "<div  style=\"margin-top: 9px; background-color: #efefef; padding-top:10px; padding-bottom:10px;margin-bottom: 9px;box-shadow: 5px 5px 5px 0px rgba(87, 87, 87, 0.2);\">\n",
    "        <center>\n",
    "            <h1>3. Exploratory Analysis</h1>\n",
    "        </center>\n",
    "\n",
    "   \n",
    "<ol>\n",
    "    <li><a href=\"#ea-init\" style=\"color: #7a0723;\">Initializing</a></li>\n",
    "    <li><a href=\"#ea-func\" style=\"color: #7a0723;\">Useful Functions</a></li>\n",
    "    <li><a href=\"#ea-data\" style=\"color: #7a0723;\">The Dataset</a></li>\n",
    "</ol>\n",
    "\n",
    "\n",
    "</div>"
   ]
  },
  {
   "cell_type": "markdown",
   "metadata": {},
   "source": [
    "<a id=\"ea-init\"></a>\n",
    "## 3.1 Initializing\n"
   ]
  },
  {
   "cell_type": "code",
   "execution_count": 11,
   "metadata": {},
   "outputs": [],
   "source": [
    "# Pandas and numpy for data manipulation\n",
    "import pandas as pd\n",
    "import numpy as np\n",
    "\n",
    "# Matplotlib and seaborn for visualization\n",
    "import matplotlib.pyplot as plt\n",
    "import seaborn as sns\n",
    "\n",
    "# Scipy for statistics\n",
    "from scipy import stats\n",
    "\n",
    "# os to manipulate files\n",
    "import os\n",
    "\n",
    "from sklearn.metrics import mean_absolute_error,r2_score\n",
    "from sklearn.model_selection import train_test_split\n",
    "from sklearn import linear_model\n",
    "from sklearn.preprocessing import PolynomialFeatures\n",
    "\n",
    "colors = [ \"#3498db\", \"#e74c3c\", \"#2ecc71\",\"#9b59b6\", \"#34495e\", \"#95a5a6\"]"
   ]
  },
  {
   "cell_type": "code",
   "execution_count": 47,
   "metadata": {},
   "outputs": [],
   "source": [
    "sns.set_style(\"darkgrid\")\n",
    "\n",
    "# Setting a custom color palette\n",
    "sns.set_palette(sns.color_palette(\n",
    "    [\"#7a0723\",\"#ff5b21\", \"#e70060\",\"#f7cf60\",\"#cdccc8\"]\n",
    "))"
   ]
  },
  {
   "cell_type": "markdown",
   "metadata": {},
   "source": [
    "<a id=\"ea-func\"></a>\n",
    "\n",
    "<h2>3.2 Defining Useful Functions <a style=\"\n",
    "  border-radius: 10px;\n",
    "  background-color: #f1f1f1;\n",
    "  border: none;\n",
    "  color: #7a0723;\n",
    "  text-align: center;\n",
    "  text-decoration: none;\n",
    "  display: inline-block;\n",
    "  padding: 4px 4px;\n",
    "  font-size: 14px;\" href=\"#third\">↻</a></h2>\n"
   ]
  },
  {
   "cell_type": "code",
   "execution_count": null,
   "metadata": {},
   "outputs": [],
   "source": []
  },
  {
   "cell_type": "markdown",
   "metadata": {},
   "source": [
    "<a id=\"ea-data\"></a>\n",
    "<h2>3.3 The Dataset <a style=\"\n",
    "  border-radius: 10px;\n",
    "  background-color: #f1f1f1;\n",
    "  border: none;\n",
    "  color: #7a0723;\n",
    "  text-align: center;\n",
    "  text-decoration: none;\n",
    "  display: inline-block;\n",
    "  padding: 4px 4px;\n",
    "  font-size: 14px;\" href=\"#third\">↻</a></h2>"
   ]
  },
  {
   "cell_type": "code",
   "execution_count": 14,
   "metadata": {},
   "outputs": [
    {
     "data": {
      "text/plain": [
       "'/home/eduardo/GitHub/Drug Classification'"
      ]
     },
     "execution_count": 14,
     "metadata": {},
     "output_type": "execute_result"
    }
   ],
   "source": []
  },
  {
   "cell_type": "code",
   "execution_count": 34,
   "metadata": {},
   "outputs": [
    {
     "data": {
      "text/html": [
       "<div>\n",
       "<style scoped>\n",
       "    .dataframe tbody tr th:only-of-type {\n",
       "        vertical-align: middle;\n",
       "    }\n",
       "\n",
       "    .dataframe tbody tr th {\n",
       "        vertical-align: top;\n",
       "    }\n",
       "\n",
       "    .dataframe thead th {\n",
       "        text-align: right;\n",
       "    }\n",
       "</style>\n",
       "<table border=\"1\" class=\"dataframe\">\n",
       "  <thead>\n",
       "    <tr style=\"text-align: right;\">\n",
       "      <th></th>\n",
       "      <th>Age</th>\n",
       "      <th>Sex</th>\n",
       "      <th>BP</th>\n",
       "      <th>Cholesterol</th>\n",
       "      <th>Na_to_K</th>\n",
       "      <th>Drug</th>\n",
       "    </tr>\n",
       "  </thead>\n",
       "  <tbody>\n",
       "    <tr>\n",
       "      <th>86</th>\n",
       "      <td>51</td>\n",
       "      <td>F</td>\n",
       "      <td>NORMAL</td>\n",
       "      <td>HIGH</td>\n",
       "      <td>13.597</td>\n",
       "      <td>drugX</td>\n",
       "    </tr>\n",
       "    <tr>\n",
       "      <th>96</th>\n",
       "      <td>58</td>\n",
       "      <td>F</td>\n",
       "      <td>LOW</td>\n",
       "      <td>HIGH</td>\n",
       "      <td>38.247</td>\n",
       "      <td>DrugY</td>\n",
       "    </tr>\n",
       "    <tr>\n",
       "      <th>168</th>\n",
       "      <td>51</td>\n",
       "      <td>F</td>\n",
       "      <td>LOW</td>\n",
       "      <td>NORMAL</td>\n",
       "      <td>23.003</td>\n",
       "      <td>DrugY</td>\n",
       "    </tr>\n",
       "    <tr>\n",
       "      <th>157</th>\n",
       "      <td>53</td>\n",
       "      <td>M</td>\n",
       "      <td>LOW</td>\n",
       "      <td>HIGH</td>\n",
       "      <td>22.963</td>\n",
       "      <td>DrugY</td>\n",
       "    </tr>\n",
       "    <tr>\n",
       "      <th>70</th>\n",
       "      <td>70</td>\n",
       "      <td>M</td>\n",
       "      <td>HIGH</td>\n",
       "      <td>HIGH</td>\n",
       "      <td>13.967</td>\n",
       "      <td>drugB</td>\n",
       "    </tr>\n",
       "  </tbody>\n",
       "</table>\n",
       "</div>"
      ],
      "text/plain": [
       "     Age Sex      BP Cholesterol  Na_to_K   Drug\n",
       "86    51   F  NORMAL        HIGH   13.597  drugX\n",
       "96    58   F     LOW        HIGH   38.247  DrugY\n",
       "168   51   F     LOW      NORMAL   23.003  DrugY\n",
       "157   53   M     LOW        HIGH   22.963  DrugY\n",
       "70    70   M    HIGH        HIGH   13.967  drugB"
      ]
     },
     "execution_count": 34,
     "metadata": {},
     "output_type": "execute_result"
    }
   ],
   "source": [
    "# import os\n",
    "# for dirname, _, filenames in os.walk('/kaggle/input'):\n",
    "#     for filename in filenames:\n",
    "#         print(os.path.join(dirname, filename))\n",
    "\n",
    "\n",
    "# Import Dataset\n",
    "df1 = pd.read_csv(os.path.join('data','drug200.csv'))#.drop('Unnamed: 0',axis=1)\n",
    "df1.sample(5)"
   ]
  },
  {
   "cell_type": "code",
   "execution_count": 39,
   "metadata": {},
   "outputs": [
    {
     "data": {
      "text/plain": [
       "DrugY    91\n",
       "drugX    54\n",
       "drugA    23\n",
       "drugC    16\n",
       "drugB    16\n",
       "Name: Drug, dtype: int64"
      ]
     },
     "execution_count": 39,
     "metadata": {},
     "output_type": "execute_result"
    }
   ],
   "source": [
    "df1['Drug'].value_counts()"
   ]
  },
  {
   "cell_type": "code",
   "execution_count": 48,
   "metadata": {},
   "outputs": [
    {
     "data": {
      "text/plain": [
       "<matplotlib.axes._subplots.AxesSubplot at 0x7f384b818350>"
      ]
     },
     "execution_count": 48,
     "metadata": {},
     "output_type": "execute_result"
    },
    {
     "data": {
      "image/png": "[encoded data removed]",
      "text/plain": [
       "<Figure size 432x288 with 1 Axes>"
      ]
     },
     "metadata": {},
     "output_type": "display_data"
    }
   ],
   "source": [
    "sns.countplot(x=df1['Drug'],hue='Sex',data=df1)"
   ]
  },
  {
   "cell_type": "markdown",
   "metadata": {},
   "source": [
    "### Numerical Features"
   ]
  },
  {
   "cell_type": "code",
   "execution_count": 29,
   "metadata": {},
   "outputs": [
    {
     "data": {
      "text/html": [
       "<div>\n",
       "<style scoped>\n",
       "    .dataframe tbody tr th:only-of-type {\n",
       "        vertical-align: middle;\n",
       "    }\n",
       "\n",
       "    .dataframe tbody tr th {\n",
       "        vertical-align: top;\n",
       "    }\n",
       "\n",
       "    .dataframe thead tr th {\n",
       "        text-align: left;\n",
       "    }\n",
       "\n",
       "    .dataframe thead tr:last-of-type th {\n",
       "        text-align: right;\n",
       "    }\n",
       "</style>\n",
       "<table border=\"1\" class=\"dataframe\">\n",
       "  <thead>\n",
       "    <tr>\n",
       "      <th></th>\n",
       "      <th colspan=\"2\" halign=\"left\">Age</th>\n",
       "      <th colspan=\"2\" halign=\"left\">Na_to_K</th>\n",
       "    </tr>\n",
       "    <tr>\n",
       "      <th></th>\n",
       "      <th>mean</th>\n",
       "      <th>std</th>\n",
       "      <th>mean</th>\n",
       "      <th>std</th>\n",
       "    </tr>\n",
       "    <tr>\n",
       "      <th>Drug</th>\n",
       "      <th></th>\n",
       "      <th></th>\n",
       "      <th></th>\n",
       "      <th></th>\n",
       "    </tr>\n",
       "  </thead>\n",
       "  <tbody>\n",
       "    <tr>\n",
       "      <th>DrugY</th>\n",
       "      <td>43.747253</td>\n",
       "      <td>17.031731</td>\n",
       "      <td>22.374780</td>\n",
       "      <td>6.060195</td>\n",
       "    </tr>\n",
       "    <tr>\n",
       "      <th>drugA</th>\n",
       "      <td>35.869565</td>\n",
       "      <td>9.696786</td>\n",
       "      <td>10.918783</td>\n",
       "      <td>2.037642</td>\n",
       "    </tr>\n",
       "    <tr>\n",
       "      <th>drugB</th>\n",
       "      <td>62.500000</td>\n",
       "      <td>7.127412</td>\n",
       "      <td>11.524375</td>\n",
       "      <td>1.869919</td>\n",
       "    </tr>\n",
       "    <tr>\n",
       "      <th>drugC</th>\n",
       "      <td>42.500000</td>\n",
       "      <td>16.725230</td>\n",
       "      <td>10.633750</td>\n",
       "      <td>2.045009</td>\n",
       "    </tr>\n",
       "    <tr>\n",
       "      <th>drugX</th>\n",
       "      <td>44.018519</td>\n",
       "      <td>16.435685</td>\n",
       "      <td>10.650556</td>\n",
       "      <td>2.198091</td>\n",
       "    </tr>\n",
       "  </tbody>\n",
       "</table>\n",
       "</div>"
      ],
      "text/plain": [
       "             Age               Na_to_K          \n",
       "            mean        std       mean       std\n",
       "Drug                                            \n",
       "DrugY  43.747253  17.031731  22.374780  6.060195\n",
       "drugA  35.869565   9.696786  10.918783  2.037642\n",
       "drugB  62.500000   7.127412  11.524375  1.869919\n",
       "drugC  42.500000  16.725230  10.633750  2.045009\n",
       "drugX  44.018519  16.435685  10.650556  2.198091"
      ]
     },
     "execution_count": 29,
     "metadata": {},
     "output_type": "execute_result"
    }
   ],
   "source": [
    "df1.groupby(by='Drug').agg(['mean','std'])"
   ]
  },
  {
   "cell_type": "code",
   "execution_count": 49,
   "metadata": {},
   "outputs": [
    {
     "data": {
      "image/png": "[encoded data removed]",
      "text/plain": [
       "<Figure size 426.625x360 with 6 Axes>"
      ]
     },
     "metadata": {},
     "output_type": "display_data"
    }
   ],
   "source": [
    "g = sns.pairplot(df1, hue=\"Drug\")"
   ]
  },
  {
   "cell_type": "markdown",
   "metadata": {},
   "source": [
    "**Observations**\n",
    "1. **DrugY**: Mainly for `Na_to_K $\\gtrsim 10$ \n",
    "2. Except for **DrugY**, all drugs exhibits `Na_to_K` $\\lesssim 10$ \n",
    "3. **DrugA** not observed in people over 55 years old (conf: ~95%)\n",
    "3. **DrugB** mainly for people over 48 years old (conf: ~95%)"
   ]
  },
  {
   "cell_type": "markdown",
   "metadata": {},
   "source": [
    "## Exemplo 5\n",
    "\n",
    "(Adaptado de Morettin, 2004) Em uma linha de produção de certa peça cerâmica,\n",
    "colheu-se uma amostra de **125** itens, constatando-se **7** peças eram defeituosas. Com\n",
    "esses resultados amostrais, determine a estimativa intervalar de **87%** de confiança da\n",
    "proporção de peças defeituosas produzidas pela empresa. "
   ]
  },
  {
   "cell_type": "code",
   "execution_count": 8,
   "metadata": {},
   "outputs": [
    {
     "name": "stdout",
     "output_type": "stream",
     "text": [
      "Margem de erro: 0.03\n",
      "Intervalo para média (µ): [0.0249 , 0.0871]\n"
     ]
    }
   ],
   "source": [
    "ex5 = intervalo(alpha=0.13,prop_a=7/125,n=125)\n",
    "print('Margem de erro: {:04.2f}'.format(ex5.param['margem']))\n",
    "print('Intervalo para média (µ): [{:02.4f} , {:02.4f}]'.format(*ex5.param['intervalo']))"
   ]
  },
  {
   "cell_type": "markdown",
   "metadata": {},
   "source": [
    "Agora é com você!\n",
    "\n",
    "**a)** Encontre os intervalos com 80% e 99% de confiança."
   ]
  },
  {
   "cell_type": "code",
   "execution_count": 15,
   "metadata": {},
   "outputs": [
    {
     "name": "stdout",
     "output_type": "stream",
     "text": [
      "Intervalo com 80% de confiança\n",
      "Margem de erro:  0.0264\n",
      "Intervalo para média (µ): [0.0296 , 0.0824]\n",
      "\n",
      "Intervalo com 99% de confiança\n",
      "Margem de erro:  0.0530\n",
      "Intervalo para média (µ): [ 0.0030 ,  0.1090]\n"
     ]
    }
   ],
   "source": [
    "print('Intervalo com 80% de confiança')\n",
    "ex5 = intervalo(alpha=0.2,prop_a=7/125,n=125)\n",
    "print('Margem de erro: {:7.4f}'.format(ex5.param['margem']))\n",
    "print('Intervalo para média (µ): [{:02.4f} , {:02.4f}]'.format(*ex5.param['intervalo']))\n",
    "\n",
    "print('\\nIntervalo com 99% de confiança')\n",
    "ex5 = intervalo(alpha=0.01,prop_a=7/125,n=125)\n",
    "print('Margem de erro: {:7.4f}'.format(ex5.param['margem']))\n",
    "print('Intervalo para média (µ): [{:7.4f} , {:7.4f}]'.format(*ex5.param['intervalo']))"
   ]
  },
  {
   "cell_type": "markdown",
   "metadata": {},
   "source": [
    "## Exemplo 6\n",
    "\n",
    "(Triola, 1998) As companhias de seguro estão ficando preocupadas com o fato de\n",
    "que o número crescente de telefones celulares resulte em maior número de colisões de\n",
    "carros; estão, por isso, pensando em cobrar prêmios mais elevados para os motoristas\n",
    "que utilizam celulares. Desejamos estimar, com uma **margem de erro de três pontos\n",
    "percentuais**, a percentagem de motoristas que falam ao celular enquanto estão dirigindo.\n",
    "Supondo que se pretende um nível de **95%** de confiança nos resultados, quantos\n",
    "motoristas devem ser pesquisados?\n",
    "\n",
    "a) Suponha que tenhamos uma estimativa, com base em estudos anteriores, de **18%** de motoristas que falam ao celular.\n",
    "\n",
    "\n",
    "\\begin{equation}\n",
    "    n=\\frac{z_{\\alpha/2}^{\\,2}\\hat{p}\\left(1-\\hat{p}\\right)}{E^{2}}\n",
    "\\end{equation}"
   ]
  },
  {
   "cell_type": "code",
   "execution_count": 16,
   "metadata": {},
   "outputs": [
    {
     "data": {
      "text/plain": [
       "630"
      ]
     },
     "execution_count": 16,
     "metadata": {},
     "output_type": "execute_result"
    }
   ],
   "source": [
    "puc.tamanho_amostral(proporcao=0.18,margem_de_erro=0.03)"
   ]
  },
  {
   "cell_type": "markdown",
   "metadata": {},
   "source": [
    "b) Suponha que não tenhamos qualquer informação que possa sugerir um valor de p̂"
   ]
  },
  {
   "cell_type": "code",
   "execution_count": 20,
   "metadata": {},
   "outputs": [
    {
     "data": {
      "text/plain": [
       "1068"
      ]
     },
     "execution_count": 20,
     "metadata": {},
     "output_type": "execute_result"
    }
   ],
   "source": [
    "puc.tamanho_amostral(proporcao=0.5,margem_de_erro=0.03)"
   ]
  },
  {
   "cell_type": "markdown",
   "metadata": {},
   "source": [
    "## Exemplo 7\n",
    "\n",
    "O reitor de uma universidade deseja estimar com uma **margem de erro de 5%** e\n",
    "um **nível de confiança de 97%**, a proporção de estudantes matriculados nos programas de\n",
    "MBA que fizeram graduação em Sistemas de Informação. Sabe-se que, atualmente, há\n",
    "**550** alunos fazendo MBA. Qual tamanho mínimo de amostra deve ser coletado?\n",
    "\n",
    "a) Estima-se que a proporção populacional seja de **23%**.\n",
    "\n",
    "b) Não há base para estimar o valor aproximado da proporção populacional.\n",
    "\n",
    "\\begin{equation}\n",
    "    n=\\frac{N\\hat{p}\\left(1-\\hat{p}\\right)z^{2}}{\\hat{p}\\left(1-\\hat{p}\\right)z^{2}+\\left(N-1\\right)E^{2}}\n",
    "\\end{equation}\n"
   ]
  },
  {
   "cell_type": "code",
   "execution_count": 26,
   "metadata": {},
   "outputs": [
    {
     "name": "stdout",
     "output_type": "stream",
     "text": [
      "a) n = 208\n",
      "b) n = 254\n"
     ]
    }
   ],
   "source": [
    "print('a) n = %d'%puc.tamanho_amostral(margem_de_erro=0.05,alpha=0.03,N=550,proporcao=0.23))\n",
    "print('b) n = %d'%puc.tamanho_amostral(margem_de_erro=0.05,alpha=0.03,N=550,proporcao=0.5))"
   ]
  },
  {
   "cell_type": "markdown",
   "metadata": {},
   "source": [
    "# Exercícios"
   ]
  },
  {
   "cell_type": "markdown",
   "metadata": {},
   "source": [
    "## Exercício 1\n",
    "\n",
    "(Adaptado  de  Larson  &  Farber,  2004)  O  diretor  do  comitê  de  admissão  de  uma universidade  deseja  estimar  a  média  de  idade  de  todos  os  estudantes aprovados no momento. Sabe-se que, de levantamentos anteriores, o desvio padrão da população é de 1,5  ano.  Em  uma  amostra  aleatória  de  20  estudantes,  a  idade  média  encontrada  foi  de 22,9 anos.\n",
    "\n",
    "**a)** Com  base  nessa  amostra,  qual  é  a  estimativa  pontual  da  idade  média  dos estudantes aprovados? \n",
    "\n",
    "**b)** Construa um intervalo de 90% de confiança para a idade média da população. "
   ]
  },
  {
   "cell_type": "code",
   "execution_count": 30,
   "metadata": {},
   "outputs": [
    {
     "name": "stdout",
     "output_type": "stream",
     "text": [
      "a) mu = 22.90\n",
      "b) Margem de erro:  0.5517\n",
      "   Intervalo para média (µ): [22.3483 , 23.4517]\n"
     ]
    }
   ],
   "source": [
    "ex1 = intervalo(alpha=0.1,n=20,media_a=22.9,sigma=1.5)\n",
    "print('a) mu = %.2f'%22.9)\n",
    "print('b) Margem de erro: {:7.4f}'.format(ex1.param['margem']))\n",
    "print('   Intervalo para média (µ): [{:02.4f} , {:02.4f}]'.format(*ex1.param['intervalo']))"
   ]
  },
  {
   "cell_type": "markdown",
   "metadata": {},
   "source": [
    "## Exercício 2\n",
    "\n",
    "Um investidor planeja abrir uma agência de viagens e deseja estimar o faturamento\n",
    "médio mensal em dólares. Suponha que os faturamentos mensais de agências de\n",
    "viagens, do porte que o investidor pretende abrir, se distribuam normalmente com um\n",
    "desvio padrão de US$130,00. Durante nove meses, o investidor anotou o faturamento\n",
    "líquido mensal de uma agência de viagem do mesmo porte. Os dados encontram-se\n",
    "abaixo:\n",
    "\n",
    "\n",
    "3810 3690 3350 3400 3320 \n",
    "\n",
    "3250 3430 3600 3670\n",
    "\n",
    "\n",
    "Construa e interprete um intervalo de 92% de confiança para o faturamento médio\n",
    "mensal de uma agência de viagem desse porte."
   ]
  },
  {
   "cell_type": "code",
   "execution_count": 39,
   "metadata": {},
   "outputs": [
    {
     "name": "stdout",
     "output_type": "stream",
     "text": [
      "Margem de erro: 75.8631\n",
      "Intervalo para média (µ): [3426.3592 , 3578.0853]\n"
     ]
    }
   ],
   "source": [
    "data = [3810,3690,3350,3400,3320,3250,3430,3600,3670]\n",
    "\n",
    "ex2 = intervalo(alpha=0.08,n=len(data),media_a=np.mean(data),sigma=130)\n",
    "print('Margem de erro: {:7.4f}'.format(ex2.param['margem']))\n",
    "print('Intervalo para média (µ): [{:02.4f} , {:02.4f}]'.format(*ex2.param['intervalo']))"
   ]
  },
  {
   "cell_type": "markdown",
   "metadata": {},
   "source": [
    "## Exercício 3\n",
    "\n",
    "Uma pesquisa é planejada para determinar as despesas médicas anuais das\n",
    "famílias dos empregados de uma empresa. A gerência da empresa deseja ter 95% de\n",
    "confiança de que a média da amostra está no máximo com uma margem de erro de \\\\$50\n",
    "da média real das despesas médicas familiares. Um estudo-piloto indica que o desvio\n",
    "padrão pode ser considerado como sendo igual a \\\\$400.\n",
    "\n",
    "**a)** Qual o tamanho de amostra necessário?"
   ]
  },
  {
   "cell_type": "code",
   "execution_count": 42,
   "metadata": {},
   "outputs": [
    {
     "data": {
      "text/plain": [
       "246"
      ]
     },
     "execution_count": 42,
     "metadata": {},
     "output_type": "execute_result"
    }
   ],
   "source": [
    "puc.tamanho_amostral(alpha=0.05,margem_de_erro=50,sigma=400)"
   ]
  },
  {
   "cell_type": "markdown",
   "metadata": {},
   "source": [
    "**b)** Se a gerência deseja estar certa em uma margem de erro de $25, que tamanho\n",
    "de amostra será necessário?"
   ]
  },
  {
   "cell_type": "code",
   "execution_count": 43,
   "metadata": {},
   "outputs": [
    {
     "data": {
      "text/plain": [
       "984"
      ]
     },
     "execution_count": 43,
     "metadata": {},
     "output_type": "execute_result"
    }
   ],
   "source": [
    "puc.tamanho_amostral(alpha=0.05,margem_de_erro=25,sigma=400)"
   ]
  },
  {
   "cell_type": "markdown",
   "metadata": {},
   "source": [
    "**c)** Sabe-se que a empresa tem, atualmente, 386 empregados. Qual deve ser o\n",
    "tamanho amostral necessário para termos um nível de 92% de confiança?\n",
    "\n",
    "(Mantendo-se inalteradas as outras informações do enunciado)"
   ]
  },
  {
   "cell_type": "code",
   "execution_count": 45,
   "metadata": {},
   "outputs": [
    {
     "data": {
      "text/plain": [
       "131"
      ]
     },
     "execution_count": 45,
     "metadata": {},
     "output_type": "execute_result"
    }
   ],
   "source": [
    "puc.tamanho_amostral(alpha=0.08,margem_de_erro=50,sigma=400,N=386)"
   ]
  },
  {
   "cell_type": "markdown",
   "metadata": {},
   "source": [
    "## Exercício 4\n",
    "\n",
    "Em uma pesquisa de orçamento familiar desenvolvida pelo instituto ZX, solicitou-se\n",
    "a **16** domicílios de certa região que anotassem suas despesas com alimentação durante\n",
    "uma semana. O resultado foi uma despesa média de **R\\\\$330,00** com um desvio padrão de\n",
    "**R\\\\$40,00**. Construa e interprete um intervalo de **98%** de confiança para a verdadeira\n",
    "despesa média semanal com alimentação por domicílio de toda a região. Suponha que a\n",
    "população tenha uma distribuição aproximadamente normal. "
   ]
  },
  {
   "cell_type": "code",
   "execution_count": 50,
   "metadata": {},
   "outputs": [
    {
     "name": "stdout",
     "output_type": "stream",
     "text": [
      "Margem de erro: 26.0248\n",
      "Intervalo para média (µ): [303.9752 , 356.0248]\n"
     ]
    }
   ],
   "source": [
    "ex4 = intervalo(media_a=330,desvio_a=40,n=16,alpha=0.02)\n",
    "print('Margem de erro: {:7.4f}'.format(ex4.param['margem']))\n",
    "print('Intervalo para média (µ): [{:02.4f} , {:02.4f}]'.format(*ex4.param['intervalo']))"
   ]
  },
  {
   "cell_type": "markdown",
   "metadata": {},
   "source": [
    "## Exercício 5\n",
    "\n",
    "A figura abaixo mostra os resultados de uma pesquisa com **400** homens, **500**\n",
    "mulheres, **650** pessoas que usam frequentemente o forno microondas e **50** pessoas que\n",
    "raramente o usam. Foi perguntado se eles eram favoráveis à irradiação da carne\n",
    "vermelha para matar micróbios transmissores de doenças. (Fonte: Peter D. Hart Research\n",
    "Associetes for Grocery Manufactures of America) \n",
    "\n",
    "**Tratar a Carne?**\n",
    "\n",
    "*Pessoas favoráveis à irradiação de alimentos para eliminar\n",
    "micróbios infecciosos:*\n",
    "\n",
    "|                                            |A favor|\n",
    "|--------------------------------------------|-------|\n",
    "|Homens                                      |61,00% |\n",
    "|Mulheres                                    |44,00% |\n",
    "|Pessoas que usam frequentemente o microondas|55,00% |\n",
    "|Pessoas que raramente usam o microondas     |40,00% |\n",
    "\n",
    "Construa um intervalo de **98%** de confiança para:\n",
    "\n",
    "**a)** A proporção dos usuários freqüentes do microondas favoráveis à irradiação da\n",
    "carne vermelha.\n",
    "\n",
    "**b)** A proporção dos usuários esporádicos do microondas favoráveis à irradiação da\n",
    "carne vermelha.\n",
    "\n",
    "**c)** A proporção de mulheres que são contra a irradiação da carne vermelha."
   ]
  },
  {
   "cell_type": "code",
   "execution_count": 59,
   "metadata": {},
   "outputs": [
    {
     "name": "stdout",
     "output_type": "stream",
     "text": [
      "a) Usuários frequentes:  [0.5046 , 0.5954]\n",
      "b) Usuários esporádicos: [0.2388 , 0.5612]\n",
      "c) Mulheres: [0.5084 , 0.6116]\n"
     ]
    }
   ],
   "source": [
    "# a) Usuários Frequentes\n",
    "exF = intervalo(prop_a=0.55,n=650,alpha=0.02)\n",
    "print('a) Usuários frequentes:  [{:6.4f} , {:6.4f}]'.format(*exF.param['intervalo']))\n",
    "\n",
    "# b) Usuários Esporádicos\n",
    "exE = intervalo(prop_a=0.4,n=50,alpha=0.02)\n",
    "print('b) Usuários esporádicos: [{:6.4f} , {:6.4f}]'.format(*exE.param['intervalo']))\n",
    "\n",
    "# c) Mulheres\n",
    "exM = intervalo(prop_a=0.56,n=500,alpha=0.02)\n",
    "print('c) Mulheres: [{:6.4f} , {:6.4f}]'.format(*exM.param['intervalo']))"
   ]
  },
  {
   "cell_type": "markdown",
   "metadata": {},
   "source": [
    "## Exercício 6\n",
    "\n",
    "Suponha que você vai realizar um levantamento para estimar a proporção de crianças\n",
    "matriculadas em um programa de saúde infantil na cidade de Nova Lima-MG. Sabe-se, segundo o\n",
    "IBGE, que o município apresentou no ano de 2014 o número de **1286** nascidos\n",
    "vivos e registrados na cidade. Considerando **90%** de confiança e um erro amostral de **4%**,\n",
    "determine:\n",
    "\n",
    "**a)** O tamanho da amostra"
   ]
  },
  {
   "cell_type": "code",
   "execution_count": 61,
   "metadata": {},
   "outputs": [
    {
     "data": {
      "text/plain": [
       "319"
      ]
     },
     "execution_count": 61,
     "metadata": {},
     "output_type": "execute_result"
    }
   ],
   "source": [
    "puc.tamanho_amostral(N=1286,alpha=0.1,margem_de_erro=0.04,proporcao=0.5)"
   ]
  },
  {
   "cell_type": "markdown",
   "metadata": {},
   "source": [
    "**b)** Considerando agora uma proporção de **70%** de crianças matriculadas no programa\n",
    "de saúde, qual seria o tamanho da amostra?"
   ]
  },
  {
   "cell_type": "code",
   "execution_count": 62,
   "metadata": {},
   "outputs": [
    {
     "data": {
      "text/plain": [
       "279"
      ]
     },
     "execution_count": 62,
     "metadata": {},
     "output_type": "execute_result"
    }
   ],
   "source": [
    "puc.tamanho_amostral(N=1286,alpha=0.1,margem_de_erro=0.04,proporcao=0.7)"
   ]
  },
  {
   "cell_type": "markdown",
   "metadata": {},
   "source": [
    "<a id=\"fourth\" style=\"\n",
    "  background-color: #3772a2;\n",
    "  border: none;\n",
    "  color: white;\n",
    "  padding: 2px 10px;\n",
    "  text-align: center;\n",
    "  text-decoration: none;\n",
    "  display: inline-block;\n",
    "  font-size: 10px;\" href=\"#toc\">TOC ↻</a>\n",
    "# 5. Teste Z para comparação de duas proporções"
   ]
  }
 ],
 "metadata": {
  "kernelspec": {
   "display_name": "Python 3",
   "language": "python",
   "name": "python3"
  },
  "language_info": {
   "codemirror_mode": {
    "name": "ipython",
    "version": 3
   },
   "file_extension": ".py",
   "mimetype": "text/x-python",
   "name": "python",
   "nbconvert_exporter": "python",
   "pygments_lexer": "ipython3",
   "version": "3.7.6"
  },
  "toc": {
   "base_numbering": 1,
   "nav_menu": {},
   "number_sections": true,
   "sideBar": true,
   "skip_h1_title": false,
   "title_cell": "Table of Contents",
   "title_sidebar": "Contents",
   "toc_cell": false,
   "toc_position": {},
   "toc_section_display": true,
   "toc_window_display": false
  }
 },
 "nbformat": 4,
 "nbformat_minor": 4
}
