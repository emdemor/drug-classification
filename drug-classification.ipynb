{
 "cells": [
  {
   "cell_type": "markdown",
   "metadata": {},
   "source": [
    "![title](source/title.png)\n",
    "<a id=\"toc\"></a>"
   ]
  },
  {
   "cell_type": "markdown",
   "metadata": {},
   "source": [
    "<div  style=\"margin-top: 9px; background-color: #efefef; padding-top:10px; padding-bottom:10px;margin-bottom: 9px;box-shadow: 5px 5px 5px 0px rgba(87, 87, 87, 0.2);\">\n",
    "        <center>\n",
    "            <h2>Table of Contents</h2>\n",
    "        </center>\n",
    "\n",
    "   \n",
    "<ol>\n",
    "    <a href=\"#init\" style=\"color: #7a0723;\">Initializing</a> \n",
    "    <li><a href=\"#first\" style=\"color: #7a0723;\">Introduction</a></li>\n",
    "    <li><a href=\"#second\" style=\"color: #7a0723;\">Methodology</a></li>\n",
    "    <li><a href=\"#third\" style=\"color: #7a0723;\">Exploratory Analysis</a></li>\n",
    "    <li><a href=\"#fourth\" style=\"color: #7a0723;\">Teste Z para comparação de duas proporções</a></li>\n",
    "\n",
    "<!--     <li><a href=\"#seventh\"></a></li> -->\n",
    "<!--     <li><a href=\"#eighth\">Teste t pareado para duas médias</a></li> -->\n",
    "<!--     <li><a href=\"#ninth\">Teste F para duas variâncias</a></li> -->\n",
    "<!--     <li><a href=\"#tenth\">Teste t para duas médias</a></li> -->\n",
    "</ol>\n",
    "\n",
    "\n",
    "</div>"
   ]
  },
  {
   "cell_type": "markdown",
   "metadata": {},
   "source": [
    "<a id=\"init\"></a>\n",
    "\n",
    "# Initializing"
   ]
  },
  {
   "cell_type": "code",
   "execution_count": null,
   "metadata": {},
   "outputs": [],
   "source": [
    "# This Python 3 environment comes with many helpful analytics libraries installed\n",
    "# It is defined by the kaggle/python Docker image: https://github.com/kaggle/docker-python\n",
    "# For example, here's several helpful packages to load\n",
    "\n",
    "import numpy as np # linear algebra\n",
    "import pandas as pd # data processing, CSV file I/O (e.g. pd.read_csv)\n",
    "\n",
    "# Input data files are available in the read-only \"../input/\" directory\n",
    "# For example, running this (by clicking run or pressing Shift+Enter) will list all files under the input directory\n",
    "\n",
    "# import os\n",
    "# for dirname, _, filenames in os.walk('/kaggle/input'):\n",
    "#     for filename in filenames:\n",
    "#         print(os.path.join(dirname, filename))\n",
    "\n",
    "# You can write up to 5GB to the current directory (/kaggle/working/) that gets preserved as output when you create a version using \"Save & Run All\" \n",
    "# You can also write temporary files to /kaggle/temp/, but they won't be saved outside of the current session"
   ]
  },
  {
   "cell_type": "code",
   "execution_count": 47,
   "metadata": {},
   "outputs": [],
   "source": []
  },
  {
   "cell_type": "markdown",
   "metadata": {},
   "source": [
    "<!-- <a id=\"first\"></a> -->\n",
    "\n",
    "<a id=\"first\" style=\"\n",
    "  background-color: #7a0723;\n",
    "  border: none;\n",
    "  color: white;\n",
    "  padding: 2px 10px;\n",
    "  text-align: center;\n",
    "  text-decoration: none;\n",
    "  display: inline-block;\n",
    "  font-size: 10px;\" href=\"#toc\">TOC ↻</a>\n",
    "  \n",
    "  \n",
    "<div  style=\"margin-top: 9px; background-color: #efefef; padding-top:10px; padding-bottom:10px;margin-bottom: 9px;box-shadow: 5px 5px 5px 0px rgba(87, 87, 87, 0.2);\">\n",
    "        <center>\n",
    "            <h1>1. Introduction</h1>\n",
    "        </center>\n",
    "\n",
    "   \n",
    "<ol>\n",
    "<!--     <li><a href=\"#ea-init\">Initializing</a></li> -->\n",
    "\n",
    "</ol>\n",
    "\n",
    "\n",
    "</div>"
   ]
  },
  {
   "cell_type": "markdown",
   "metadata": {},
   "source": [
    "<a id=\"second\" style=\"\n",
    "  background-color: #7a0723;\n",
    "  border: none;\n",
    "  color: white;\n",
    "  padding: 2px 10px;\n",
    "  text-align: center;\n",
    "  text-decoration: none;\n",
    "  display: inline-block;\n",
    "  font-size: 10px;\" href=\"#toc\">TOC ↻</a>\n",
    "\n",
    "  \n",
    "<div  style=\"margin-top: 9px; background-color: #efefef; padding-top:10px; padding-bottom:10px;margin-bottom: 9px;box-shadow: 5px 5px 5px 0px rgba(87, 87, 87, 0.2);\">\n",
    "        <center>\n",
    "            <h1>2. Methodology</h1>\n",
    "        </center>\n",
    "\n",
    "   \n",
    "<ol>\n",
    "<!--     <li><a href=\"#ea-init\">Initializing</a></li> -->\n",
    "\n",
    "</ol>\n",
    "\n",
    "\n",
    "</div>"
   ]
  },
  {
   "cell_type": "markdown",
   "metadata": {},
   "source": [
    "<a id=\"third\" style=\"\n",
    "  background-color: #7a0723;\n",
    "  border: none;\n",
    "  color: white;\n",
    "  padding: 2px 10px;\n",
    "  text-align: center;\n",
    "  text-decoration: none;\n",
    "  display: inline-block;\n",
    "  font-size: 10px;\" href=\"#toc\">TOC ↻</a>\n",
    "  \n",
    "<div  style=\"margin-top: 9px; background-color: #efefef; padding-top:10px; padding-bottom:10px;margin-bottom: 9px;box-shadow: 5px 5px 5px 0px rgba(87, 87, 87, 0.2);\">\n",
    "        <center>\n",
    "            <h1>3. Exploratory Analysis</h1>\n",
    "        </center>\n",
    "\n",
    "   \n",
    "<ol>\n",
    "    <li><a href=\"#ea-init\" style=\"color: #7a0723;\">Initializing</a></li>\n",
    "    <li><a href=\"#ea-func\" style=\"color: #7a0723;\">Useful Functions</a></li>\n",
    "    <li><a href=\"#ea-data\" style=\"color: #7a0723;\">The Dataset</a></li>\n",
    "</ol>\n",
    "\n",
    "\n",
    "</div>"
   ]
  },
  {
   "cell_type": "markdown",
   "metadata": {},
   "source": [
    "<a id=\"ea-init\"></a>\n",
    "## 3.1 Initializing\n"
   ]
  },
  {
   "cell_type": "code",
   "execution_count": 11,
   "metadata": {},
   "outputs": [],
   "source": [
    "# Pandas and numpy for data manipulation\n",
    "import pandas as pd\n",
    "import numpy as np\n",
    "\n",
    "# Matplotlib and seaborn for visualization\n",
    "import matplotlib.pyplot as plt\n",
    "import seaborn as sns\n",
    "\n",
    "# Scipy for statistics\n",
    "from scipy import stats\n",
    "\n",
    "# os to manipulate files\n",
    "import os\n",
    "\n",
    "from sklearn.metrics import mean_absolute_error,r2_score\n",
    "from sklearn.model_selection import train_test_split\n",
    "from sklearn import linear_model\n",
    "from sklearn.preprocessing import PolynomialFeatures\n",
    "    "
   ]
  },
  {
   "cell_type": "code",
   "execution_count": 62,
   "metadata": {},
   "outputs": [],
   "source": [
    "sns.set_style(\"darkgrid\")\n",
    "\n",
    "# Setting a custom color palette\n",
    "sns.set_palette(sns.color_palette(\n",
    "    [\"#7a0723\",\"#ff5b21\",\"#f7cf60\", \"#ff94c0\",\"#323133\"]\n",
    "))"
   ]
  },
  {
   "cell_type": "markdown",
   "metadata": {},
   "source": [
    "<a id=\"ea-func\"></a>\n",
    "\n",
    "<h2>3.2 Defining Useful Functions <a style=\"\n",
    "  border-radius: 10px;\n",
    "  background-color: #f1f1f1;\n",
    "  border: none;\n",
    "  color: #7a0723;\n",
    "  text-align: center;\n",
    "  text-decoration: none;\n",
    "  display: inline-block;\n",
    "  padding: 4px 4px;\n",
    "  font-size: 14px;\" href=\"#third\">↻</a></h2>\n"
   ]
  },
  {
   "cell_type": "code",
   "execution_count": null,
   "metadata": {},
   "outputs": [],
   "source": []
  },
  {
   "cell_type": "markdown",
   "metadata": {},
   "source": [
    "<a id=\"ea-data\"></a>\n",
    "<h2>3.3 The Dataset <a style=\"\n",
    "  border-radius: 10px;\n",
    "  background-color: #f1f1f1;\n",
    "  border: none;\n",
    "  color: #7a0723;\n",
    "  text-align: center;\n",
    "  text-decoration: none;\n",
    "  display: inline-block;\n",
    "  padding: 4px 4px;\n",
    "  font-size: 14px;\" href=\"#third\">↻</a></h2>"
   ]
  },
  {
   "cell_type": "code",
   "execution_count": 51,
   "metadata": {},
   "outputs": [
    {
     "data": {
      "text/html": [
       "<div>\n",
       "<style scoped>\n",
       "    .dataframe tbody tr th:only-of-type {\n",
       "        vertical-align: middle;\n",
       "    }\n",
       "\n",
       "    .dataframe tbody tr th {\n",
       "        vertical-align: top;\n",
       "    }\n",
       "\n",
       "    .dataframe thead th {\n",
       "        text-align: right;\n",
       "    }\n",
       "</style>\n",
       "<table border=\"1\" class=\"dataframe\">\n",
       "  <thead>\n",
       "    <tr style=\"text-align: right;\">\n",
       "      <th></th>\n",
       "      <th>Age</th>\n",
       "      <th>Sex</th>\n",
       "      <th>BP</th>\n",
       "      <th>Cholesterol</th>\n",
       "      <th>Na_to_K</th>\n",
       "      <th>Drug</th>\n",
       "    </tr>\n",
       "  </thead>\n",
       "  <tbody>\n",
       "    <tr>\n",
       "      <th>34</th>\n",
       "      <td>53</td>\n",
       "      <td>M</td>\n",
       "      <td>NORMAL</td>\n",
       "      <td>HIGH</td>\n",
       "      <td>14.133</td>\n",
       "      <td>drugX</td>\n",
       "    </tr>\n",
       "    <tr>\n",
       "      <th>188</th>\n",
       "      <td>65</td>\n",
       "      <td>M</td>\n",
       "      <td>HIGH</td>\n",
       "      <td>NORMAL</td>\n",
       "      <td>34.997</td>\n",
       "      <td>DrugY</td>\n",
       "    </tr>\n",
       "    <tr>\n",
       "      <th>75</th>\n",
       "      <td>26</td>\n",
       "      <td>M</td>\n",
       "      <td>LOW</td>\n",
       "      <td>NORMAL</td>\n",
       "      <td>20.909</td>\n",
       "      <td>DrugY</td>\n",
       "    </tr>\n",
       "    <tr>\n",
       "      <th>140</th>\n",
       "      <td>49</td>\n",
       "      <td>M</td>\n",
       "      <td>HIGH</td>\n",
       "      <td>NORMAL</td>\n",
       "      <td>6.269</td>\n",
       "      <td>drugA</td>\n",
       "    </tr>\n",
       "    <tr>\n",
       "      <th>50</th>\n",
       "      <td>58</td>\n",
       "      <td>F</td>\n",
       "      <td>HIGH</td>\n",
       "      <td>HIGH</td>\n",
       "      <td>19.416</td>\n",
       "      <td>DrugY</td>\n",
       "    </tr>\n",
       "  </tbody>\n",
       "</table>\n",
       "</div>"
      ],
      "text/plain": [
       "     Age Sex      BP Cholesterol  Na_to_K   Drug\n",
       "34    53   M  NORMAL        HIGH   14.133  drugX\n",
       "188   65   M    HIGH      NORMAL   34.997  DrugY\n",
       "75    26   M     LOW      NORMAL   20.909  DrugY\n",
       "140   49   M    HIGH      NORMAL    6.269  drugA\n",
       "50    58   F    HIGH        HIGH   19.416  DrugY"
      ]
     },
     "execution_count": 51,
     "metadata": {},
     "output_type": "execute_result"
    }
   ],
   "source": [
    "# import os\n",
    "# for dirname, _, filenames in os.walk('/kaggle/input'):\n",
    "#     for filename in filenames:\n",
    "#         print(os.path.join(dirname, filename))\n",
    "\n",
    "\n",
    "# Import Dataset\n",
    "df1 = pd.read_csv(os.path.join('data','drug200.csv'))#.drop('Unnamed: 0',axis=1)\n",
    "df1.sample(5)"
   ]
  },
  {
   "cell_type": "code",
   "execution_count": 79,
   "metadata": {},
   "outputs": [
    {
     "data": {
      "image/png": "[encoded data removed]",
      "text/plain": [
       "<Figure size 432x288 with 1 Axes>"
      ]
     },
     "metadata": {},
     "output_type": "display_data"
    }
   ],
   "source": [
    "ax = sns.countplot(x=df1['Drug'],data=df1)\n",
    "ax.set(xlabel='', ylabel='Number of Occurrences',title='Drug Occurrences')\n",
    "plt.show()"
   ]
  },
  {
   "cell_type": "markdown",
   "metadata": {},
   "source": [
    "**Observations**\n",
    "\n",
    "* **DrugY** is the most observed"
   ]
  },
  {
   "cell_type": "code",
   "execution_count": 78,
   "metadata": {},
   "outputs": [
    {
     "data": {
      "image/png": "[encoded data removed]",
      "text/plain": [
       "<Figure size 432x288 with 1 Axes>"
      ]
     },
     "metadata": {},
     "output_type": "display_data"
    }
   ],
   "source": [
    "ax = sns.countplot(x=df1['Drug'],hue='Cholesterol',data=df1)\n",
    "ax.set(xlabel='', ylabel='Number of Occurrences',title='Relation between Drug and Cholesterol')\n",
    "plt.show()"
   ]
  },
  {
   "cell_type": "markdown",
   "metadata": {},
   "source": [
    "**Observations**\n",
    "\n",
    "* **DrugC** is only observed in people with high cholesterol\n",
    "\n",
    "* **DrugX** is observed more in people with normal cholesterol than with high cholesterol"
   ]
  },
  {
   "cell_type": "markdown",
   "metadata": {},
   "source": [
    "### Numerical Features"
   ]
  },
  {
   "cell_type": "code",
   "execution_count": 29,
   "metadata": {},
   "outputs": [
    {
     "data": {
      "text/html": [
       "<div>\n",
       "<style scoped>\n",
       "    .dataframe tbody tr th:only-of-type {\n",
       "        vertical-align: middle;\n",
       "    }\n",
       "\n",
       "    .dataframe tbody tr th {\n",
       "        vertical-align: top;\n",
       "    }\n",
       "\n",
       "    .dataframe thead tr th {\n",
       "        text-align: left;\n",
       "    }\n",
       "\n",
       "    .dataframe thead tr:last-of-type th {\n",
       "        text-align: right;\n",
       "    }\n",
       "</style>\n",
       "<table border=\"1\" class=\"dataframe\">\n",
       "  <thead>\n",
       "    <tr>\n",
       "      <th></th>\n",
       "      <th colspan=\"2\" halign=\"left\">Age</th>\n",
       "      <th colspan=\"2\" halign=\"left\">Na_to_K</th>\n",
       "    </tr>\n",
       "    <tr>\n",
       "      <th></th>\n",
       "      <th>mean</th>\n",
       "      <th>std</th>\n",
       "      <th>mean</th>\n",
       "      <th>std</th>\n",
       "    </tr>\n",
       "    <tr>\n",
       "      <th>Drug</th>\n",
       "      <th></th>\n",
       "      <th></th>\n",
       "      <th></th>\n",
       "      <th></th>\n",
       "    </tr>\n",
       "  </thead>\n",
       "  <tbody>\n",
       "    <tr>\n",
       "      <th>DrugY</th>\n",
       "      <td>43.747253</td>\n",
       "      <td>17.031731</td>\n",
       "      <td>22.374780</td>\n",
       "      <td>6.060195</td>\n",
       "    </tr>\n",
       "    <tr>\n",
       "      <th>drugA</th>\n",
       "      <td>35.869565</td>\n",
       "      <td>9.696786</td>\n",
       "      <td>10.918783</td>\n",
       "      <td>2.037642</td>\n",
       "    </tr>\n",
       "    <tr>\n",
       "      <th>drugB</th>\n",
       "      <td>62.500000</td>\n",
       "      <td>7.127412</td>\n",
       "      <td>11.524375</td>\n",
       "      <td>1.869919</td>\n",
       "    </tr>\n",
       "    <tr>\n",
       "      <th>drugC</th>\n",
       "      <td>42.500000</td>\n",
       "      <td>16.725230</td>\n",
       "      <td>10.633750</td>\n",
       "      <td>2.045009</td>\n",
       "    </tr>\n",
       "    <tr>\n",
       "      <th>drugX</th>\n",
       "      <td>44.018519</td>\n",
       "      <td>16.435685</td>\n",
       "      <td>10.650556</td>\n",
       "      <td>2.198091</td>\n",
       "    </tr>\n",
       "  </tbody>\n",
       "</table>\n",
       "</div>"
      ],
      "text/plain": [
       "             Age               Na_to_K          \n",
       "            mean        std       mean       std\n",
       "Drug                                            \n",
       "DrugY  43.747253  17.031731  22.374780  6.060195\n",
       "drugA  35.869565   9.696786  10.918783  2.037642\n",
       "drugB  62.500000   7.127412  11.524375  1.869919\n",
       "drugC  42.500000  16.725230  10.633750  2.045009\n",
       "drugX  44.018519  16.435685  10.650556  2.198091"
      ]
     },
     "execution_count": 29,
     "metadata": {},
     "output_type": "execute_result"
    }
   ],
   "source": [
    "df1.groupby(by='Drug').agg(['mean','std'])"
   ]
  },
  {
   "cell_type": "code",
   "execution_count": 64,
   "metadata": {},
   "outputs": [
    {
     "data": {
      "image/png": "[encoded data removed]",
      "text/plain": [
       "<Figure size 426.625x360 with 6 Axes>"
      ]
     },
     "metadata": {},
     "output_type": "display_data"
    }
   ],
   "source": [
    "g = sns.pairplot(df1, hue=\"Drug\")"
   ]
  },
  {
   "cell_type": "markdown",
   "metadata": {},
   "source": [
    "**Observations**\n",
    "1. **DrugY**: Mainly for `Na_to_K $\\gtrsim 10$ \n",
    "2. Except for **DrugY**, all drugs exhibits `Na_to_K` $\\lesssim 10$ \n",
    "3. **DrugA** not observed in people over 55 years old (conf: ~95%)\n",
    "3. **DrugB** mainly for people over 48 years old (conf: ~95%)"
   ]
  }
 ],
 "metadata": {
  "kernelspec": {
   "display_name": "Python 3",
   "language": "python",
   "name": "python3"
  },
  "language_info": {
   "codemirror_mode": {
    "name": "ipython",
    "version": 3
   },
   "file_extension": ".py",
   "mimetype": "text/x-python",
   "name": "python",
   "nbconvert_exporter": "python",
   "pygments_lexer": "ipython3",
   "version": "3.7.6"
  },
  "toc": {
   "base_numbering": 1,
   "nav_menu": {},
   "number_sections": true,
   "sideBar": true,
   "skip_h1_title": false,
   "title_cell": "Table of Contents",
   "title_sidebar": "Contents",
   "toc_cell": false,
   "toc_position": {},
   "toc_section_display": true,
   "toc_window_display": false
  }
 },
 "nbformat": 4,
 "nbformat_minor": 4
}
